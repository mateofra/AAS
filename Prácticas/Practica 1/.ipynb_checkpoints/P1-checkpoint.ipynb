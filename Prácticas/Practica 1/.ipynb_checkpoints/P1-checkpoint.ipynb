{
 "cells": [
  {
   "cell_type": "markdown",
   "id": "db43f463",
   "metadata": {},
   "source": [
    "## Aprendizaje Automático Supervisado\n",
    "\n",
    "## 3º GrIA, USC\n",
    "\n",
    "# Práctica 1: Árboles de Decisión y Selección de Modelos\n",
    "\n",
    "Este fichero Notebook contiene la solución del siguiente equipo al guion de prácticas proporcionado en el Aula Virtual de la asignatura.\n",
    "\n",
    "Miembros del equipo:\n",
    "- _Estudiante1_: Nombre, Apellidos\n",
    "- _Estudiante2_: Nombre, Apellidos\n",
    "- _Estudiante3_: Nombre, Apellidos"
   ]
  },
  {
   "cell_type": "markdown",
   "id": "24dedf0c",
   "metadata": {},
   "source": [
    "# 1. Instalación de Paquetes\n",
    "\n",
    "Escribe en la siguiente celda de código las instrucciones necesarias para cargar los paquetes de Python que necesitéis"
   ]
  },
  {
   "cell_type": "code",
   "execution_count": 1,
   "id": "cec288d1",
   "metadata": {},
   "outputs": [],
   "source": [
    "import numpy as np\n",
    "import pandas as pd\n",
    "import matplotlib.pyplot as plt\n",
    "import seaborn as sns\n",
    "from sklearn.preprocessing import minmax_scale\n",
    "from sklearn.model_selection import train_test_split, cross_val_score, StratifiedKFold, GridSearchCV\n",
    "from sklearn.impute import SimpleImputer, KNNImputer\n",
    "from sklearn.neighbors import KNeighborsClassifier\n",
    "from sklearn.tree import DecisionTreeClassifier\n",
    "from sklearn.metrics import accuracy_score"
   ]
  },
  {
   "cell_type": "markdown",
   "id": "b2201945",
   "metadata": {},
   "source": [
    "Además, para garantizar la reproducibilidad de resultados vamos a fijar una semilla que se use con todos los algoritmos que tengan alguna componente no determinista (**no cambies el código de la siguiente celda**)."
   ]
  },
  {
   "cell_type": "code",
   "execution_count": 2,
   "id": "0d804d67",
   "metadata": {},
   "outputs": [],
   "source": [
    "# Definir semilla\n",
    "SEMILLA = 1492\n",
    "np.random.seed(SEMILLA)"
   ]
  },
  {
   "cell_type": "markdown",
   "id": "78e7570e",
   "metadata": {},
   "source": [
    "# 2. Carga de Datos\n",
    "\n",
    "Escribe en la siguiente celda de código las instrucciones necesarias para cargar los conjuntos de datos (ficheros csv) proporcionados en el Aula Virtual. Para el pre-procesado y análisis de los datos podéis añadir las celdas que necesitéis."
   ]
  },
  {
   "cell_type": "code",
   "execution_count": 3,
   "id": "a81b38d2",
   "metadata": {},
   "outputs": [
    {
     "data": {
      "text/html": [
       "<div>\n",
       "<style scoped>\n",
       "    .dataframe tbody tr th:only-of-type {\n",
       "        vertical-align: middle;\n",
       "    }\n",
       "\n",
       "    .dataframe tbody tr th {\n",
       "        vertical-align: top;\n",
       "    }\n",
       "\n",
       "    .dataframe thead th {\n",
       "        text-align: right;\n",
       "    }\n",
       "</style>\n",
       "<table border=\"1\" class=\"dataframe\">\n",
       "  <thead>\n",
       "    <tr style=\"text-align: right;\">\n",
       "      <th></th>\n",
       "      <th>id</th>\n",
       "      <th>diagnosis</th>\n",
       "      <th>radius_mean</th>\n",
       "      <th>texture_mean</th>\n",
       "      <th>perimeter_mean</th>\n",
       "      <th>area_mean</th>\n",
       "      <th>smoothness_mean</th>\n",
       "      <th>compactness_mean</th>\n",
       "      <th>concavity_mean</th>\n",
       "      <th>concave_points_mean</th>\n",
       "      <th>...</th>\n",
       "      <th>radius_worst</th>\n",
       "      <th>texture_worst</th>\n",
       "      <th>perimeter_worst</th>\n",
       "      <th>area_worst</th>\n",
       "      <th>smoothness_worst</th>\n",
       "      <th>compactness_worst</th>\n",
       "      <th>concavity_worst</th>\n",
       "      <th>concave_points_worst</th>\n",
       "      <th>symmetry_worst</th>\n",
       "      <th>fractal_dimension_worst</th>\n",
       "    </tr>\n",
       "  </thead>\n",
       "  <tbody>\n",
       "    <tr>\n",
       "      <th>0</th>\n",
       "      <td>842302</td>\n",
       "      <td>M</td>\n",
       "      <td>17.99</td>\n",
       "      <td>10.38</td>\n",
       "      <td>122.80</td>\n",
       "      <td>1001.0</td>\n",
       "      <td>0.11840</td>\n",
       "      <td>0.27760</td>\n",
       "      <td>0.30010</td>\n",
       "      <td>0.14710</td>\n",
       "      <td>...</td>\n",
       "      <td>25.38</td>\n",
       "      <td>17.33</td>\n",
       "      <td>184.60</td>\n",
       "      <td>2019.0</td>\n",
       "      <td>0.16220</td>\n",
       "      <td>0.66560</td>\n",
       "      <td>0.7119</td>\n",
       "      <td>0.2654</td>\n",
       "      <td>0.4601</td>\n",
       "      <td>0.11890</td>\n",
       "    </tr>\n",
       "    <tr>\n",
       "      <th>1</th>\n",
       "      <td>842517</td>\n",
       "      <td>M</td>\n",
       "      <td>20.57</td>\n",
       "      <td>17.77</td>\n",
       "      <td>132.90</td>\n",
       "      <td>1326.0</td>\n",
       "      <td>0.08474</td>\n",
       "      <td>0.07864</td>\n",
       "      <td>0.08690</td>\n",
       "      <td>0.07017</td>\n",
       "      <td>...</td>\n",
       "      <td>24.99</td>\n",
       "      <td>23.41</td>\n",
       "      <td>158.80</td>\n",
       "      <td>1956.0</td>\n",
       "      <td>0.12380</td>\n",
       "      <td>0.18660</td>\n",
       "      <td>0.2416</td>\n",
       "      <td>0.1860</td>\n",
       "      <td>0.2750</td>\n",
       "      <td>0.08902</td>\n",
       "    </tr>\n",
       "    <tr>\n",
       "      <th>2</th>\n",
       "      <td>84348301</td>\n",
       "      <td>M</td>\n",
       "      <td>11.42</td>\n",
       "      <td>20.38</td>\n",
       "      <td>77.58</td>\n",
       "      <td>386.1</td>\n",
       "      <td>0.14250</td>\n",
       "      <td>0.28390</td>\n",
       "      <td>0.24140</td>\n",
       "      <td>0.10520</td>\n",
       "      <td>...</td>\n",
       "      <td>14.91</td>\n",
       "      <td>26.50</td>\n",
       "      <td>98.87</td>\n",
       "      <td>567.7</td>\n",
       "      <td>0.20980</td>\n",
       "      <td>0.86630</td>\n",
       "      <td>0.6869</td>\n",
       "      <td>0.2575</td>\n",
       "      <td>0.6638</td>\n",
       "      <td>0.17300</td>\n",
       "    </tr>\n",
       "    <tr>\n",
       "      <th>3</th>\n",
       "      <td>84358402</td>\n",
       "      <td>M</td>\n",
       "      <td>20.29</td>\n",
       "      <td>14.34</td>\n",
       "      <td>135.10</td>\n",
       "      <td>1297.0</td>\n",
       "      <td>0.10030</td>\n",
       "      <td>0.13280</td>\n",
       "      <td>0.19800</td>\n",
       "      <td>0.10430</td>\n",
       "      <td>...</td>\n",
       "      <td>22.54</td>\n",
       "      <td>16.67</td>\n",
       "      <td>152.20</td>\n",
       "      <td>1575.0</td>\n",
       "      <td>0.13740</td>\n",
       "      <td>0.20500</td>\n",
       "      <td>0.4000</td>\n",
       "      <td>0.1625</td>\n",
       "      <td>0.2364</td>\n",
       "      <td>0.07678</td>\n",
       "    </tr>\n",
       "    <tr>\n",
       "      <th>4</th>\n",
       "      <td>843786</td>\n",
       "      <td>M</td>\n",
       "      <td>12.45</td>\n",
       "      <td>15.70</td>\n",
       "      <td>82.57</td>\n",
       "      <td>477.1</td>\n",
       "      <td>0.12780</td>\n",
       "      <td>0.17000</td>\n",
       "      <td>0.15780</td>\n",
       "      <td>0.08089</td>\n",
       "      <td>...</td>\n",
       "      <td>15.47</td>\n",
       "      <td>23.75</td>\n",
       "      <td>103.40</td>\n",
       "      <td>741.6</td>\n",
       "      <td>0.17910</td>\n",
       "      <td>0.52490</td>\n",
       "      <td>0.5355</td>\n",
       "      <td>0.1741</td>\n",
       "      <td>0.3985</td>\n",
       "      <td>0.12440</td>\n",
       "    </tr>\n",
       "    <tr>\n",
       "      <th>...</th>\n",
       "      <td>...</td>\n",
       "      <td>...</td>\n",
       "      <td>...</td>\n",
       "      <td>...</td>\n",
       "      <td>...</td>\n",
       "      <td>...</td>\n",
       "      <td>...</td>\n",
       "      <td>...</td>\n",
       "      <td>...</td>\n",
       "      <td>...</td>\n",
       "      <td>...</td>\n",
       "      <td>...</td>\n",
       "      <td>...</td>\n",
       "      <td>...</td>\n",
       "      <td>...</td>\n",
       "      <td>...</td>\n",
       "      <td>...</td>\n",
       "      <td>...</td>\n",
       "      <td>...</td>\n",
       "      <td>...</td>\n",
       "      <td>...</td>\n",
       "    </tr>\n",
       "    <tr>\n",
       "      <th>418</th>\n",
       "      <td>925311</td>\n",
       "      <td>B</td>\n",
       "      <td>11.20</td>\n",
       "      <td>29.37</td>\n",
       "      <td>70.67</td>\n",
       "      <td>386.0</td>\n",
       "      <td>0.07449</td>\n",
       "      <td>0.03558</td>\n",
       "      <td>0.00000</td>\n",
       "      <td>0.00000</td>\n",
       "      <td>...</td>\n",
       "      <td>11.92</td>\n",
       "      <td>38.30</td>\n",
       "      <td>75.19</td>\n",
       "      <td>439.6</td>\n",
       "      <td>0.09267</td>\n",
       "      <td>0.05494</td>\n",
       "      <td>0.0000</td>\n",
       "      <td>0.0000</td>\n",
       "      <td>0.1566</td>\n",
       "      <td>0.05905</td>\n",
       "    </tr>\n",
       "    <tr>\n",
       "      <th>419</th>\n",
       "      <td>926125</td>\n",
       "      <td>M</td>\n",
       "      <td>20.92</td>\n",
       "      <td>25.09</td>\n",
       "      <td>143.00</td>\n",
       "      <td>1347.0</td>\n",
       "      <td>0.10990</td>\n",
       "      <td>0.22360</td>\n",
       "      <td>0.31740</td>\n",
       "      <td>0.14740</td>\n",
       "      <td>...</td>\n",
       "      <td>24.29</td>\n",
       "      <td>29.41</td>\n",
       "      <td>179.10</td>\n",
       "      <td>1819.0</td>\n",
       "      <td>0.14070</td>\n",
       "      <td>0.41860</td>\n",
       "      <td>0.6599</td>\n",
       "      <td>0.2542</td>\n",
       "      <td>0.2929</td>\n",
       "      <td>0.09873</td>\n",
       "    </tr>\n",
       "    <tr>\n",
       "      <th>420</th>\n",
       "      <td>926424</td>\n",
       "      <td>M</td>\n",
       "      <td>21.56</td>\n",
       "      <td>22.39</td>\n",
       "      <td>142.00</td>\n",
       "      <td>1479.0</td>\n",
       "      <td>0.11100</td>\n",
       "      <td>0.11590</td>\n",
       "      <td>0.24390</td>\n",
       "      <td>0.13890</td>\n",
       "      <td>...</td>\n",
       "      <td>25.45</td>\n",
       "      <td>26.40</td>\n",
       "      <td>166.10</td>\n",
       "      <td>2027.0</td>\n",
       "      <td>0.14100</td>\n",
       "      <td>0.21130</td>\n",
       "      <td>0.4107</td>\n",
       "      <td>0.2216</td>\n",
       "      <td>0.2060</td>\n",
       "      <td>0.07115</td>\n",
       "    </tr>\n",
       "    <tr>\n",
       "      <th>421</th>\n",
       "      <td>926954</td>\n",
       "      <td>M</td>\n",
       "      <td>16.60</td>\n",
       "      <td>28.08</td>\n",
       "      <td>108.30</td>\n",
       "      <td>858.1</td>\n",
       "      <td>0.08455</td>\n",
       "      <td>0.10230</td>\n",
       "      <td>0.09251</td>\n",
       "      <td>0.05302</td>\n",
       "      <td>...</td>\n",
       "      <td>18.98</td>\n",
       "      <td>34.12</td>\n",
       "      <td>126.70</td>\n",
       "      <td>1124.0</td>\n",
       "      <td>0.11390</td>\n",
       "      <td>0.30940</td>\n",
       "      <td>0.3403</td>\n",
       "      <td>0.1418</td>\n",
       "      <td>0.2218</td>\n",
       "      <td>0.07820</td>\n",
       "    </tr>\n",
       "    <tr>\n",
       "      <th>422</th>\n",
       "      <td>927241</td>\n",
       "      <td>M</td>\n",
       "      <td>20.60</td>\n",
       "      <td>29.33</td>\n",
       "      <td>140.10</td>\n",
       "      <td>1265.0</td>\n",
       "      <td>0.11780</td>\n",
       "      <td>0.27700</td>\n",
       "      <td>0.35140</td>\n",
       "      <td>0.15200</td>\n",
       "      <td>...</td>\n",
       "      <td>25.74</td>\n",
       "      <td>39.42</td>\n",
       "      <td>184.60</td>\n",
       "      <td>1821.0</td>\n",
       "      <td>0.16500</td>\n",
       "      <td>0.86810</td>\n",
       "      <td>0.9387</td>\n",
       "      <td>0.2650</td>\n",
       "      <td>0.4087</td>\n",
       "      <td>0.12400</td>\n",
       "    </tr>\n",
       "  </tbody>\n",
       "</table>\n",
       "<p>423 rows × 32 columns</p>\n",
       "</div>"
      ],
      "text/plain": [
       "           id diagnosis  radius_mean  texture_mean  perimeter_mean  area_mean  \\\n",
       "0      842302         M        17.99         10.38          122.80     1001.0   \n",
       "1      842517         M        20.57         17.77          132.90     1326.0   \n",
       "2    84348301         M        11.42         20.38           77.58      386.1   \n",
       "3    84358402         M        20.29         14.34          135.10     1297.0   \n",
       "4      843786         M        12.45         15.70           82.57      477.1   \n",
       "..        ...       ...          ...           ...             ...        ...   \n",
       "418    925311         B        11.20         29.37           70.67      386.0   \n",
       "419    926125         M        20.92         25.09          143.00     1347.0   \n",
       "420    926424         M        21.56         22.39          142.00     1479.0   \n",
       "421    926954         M        16.60         28.08          108.30      858.1   \n",
       "422    927241         M        20.60         29.33          140.10     1265.0   \n",
       "\n",
       "     smoothness_mean  compactness_mean  concavity_mean  concave_points_mean  \\\n",
       "0            0.11840           0.27760         0.30010              0.14710   \n",
       "1            0.08474           0.07864         0.08690              0.07017   \n",
       "2            0.14250           0.28390         0.24140              0.10520   \n",
       "3            0.10030           0.13280         0.19800              0.10430   \n",
       "4            0.12780           0.17000         0.15780              0.08089   \n",
       "..               ...               ...             ...                  ...   \n",
       "418          0.07449           0.03558         0.00000              0.00000   \n",
       "419          0.10990           0.22360         0.31740              0.14740   \n",
       "420          0.11100           0.11590         0.24390              0.13890   \n",
       "421          0.08455           0.10230         0.09251              0.05302   \n",
       "422          0.11780           0.27700         0.35140              0.15200   \n",
       "\n",
       "     ...  radius_worst  texture_worst  perimeter_worst  area_worst  \\\n",
       "0    ...         25.38          17.33           184.60      2019.0   \n",
       "1    ...         24.99          23.41           158.80      1956.0   \n",
       "2    ...         14.91          26.50            98.87       567.7   \n",
       "3    ...         22.54          16.67           152.20      1575.0   \n",
       "4    ...         15.47          23.75           103.40       741.6   \n",
       "..   ...           ...            ...              ...         ...   \n",
       "418  ...         11.92          38.30            75.19       439.6   \n",
       "419  ...         24.29          29.41           179.10      1819.0   \n",
       "420  ...         25.45          26.40           166.10      2027.0   \n",
       "421  ...         18.98          34.12           126.70      1124.0   \n",
       "422  ...         25.74          39.42           184.60      1821.0   \n",
       "\n",
       "     smoothness_worst  compactness_worst  concavity_worst  \\\n",
       "0             0.16220            0.66560           0.7119   \n",
       "1             0.12380            0.18660           0.2416   \n",
       "2             0.20980            0.86630           0.6869   \n",
       "3             0.13740            0.20500           0.4000   \n",
       "4             0.17910            0.52490           0.5355   \n",
       "..                ...                ...              ...   \n",
       "418           0.09267            0.05494           0.0000   \n",
       "419           0.14070            0.41860           0.6599   \n",
       "420           0.14100            0.21130           0.4107   \n",
       "421           0.11390            0.30940           0.3403   \n",
       "422           0.16500            0.86810           0.9387   \n",
       "\n",
       "     concave_points_worst  symmetry_worst  fractal_dimension_worst  \n",
       "0                  0.2654          0.4601                  0.11890  \n",
       "1                  0.1860          0.2750                  0.08902  \n",
       "2                  0.2575          0.6638                  0.17300  \n",
       "3                  0.1625          0.2364                  0.07678  \n",
       "4                  0.1741          0.3985                  0.12440  \n",
       "..                    ...             ...                      ...  \n",
       "418                0.0000          0.1566                  0.05905  \n",
       "419                0.2542          0.2929                  0.09873  \n",
       "420                0.2216          0.2060                  0.07115  \n",
       "421                0.1418          0.2218                  0.07820  \n",
       "422                0.2650          0.4087                  0.12400  \n",
       "\n",
       "[423 rows x 32 columns]"
      ]
     },
     "execution_count": 3,
     "metadata": {},
     "output_type": "execute_result"
    }
   ],
   "source": [
    "datos = pd.read_csv('breast-cancer-train.csv'); datos #utilizamos pandas para leer el csv"
   ]
  },
  {
   "cell_type": "code",
   "execution_count": 4,
   "id": "91e9eaad-1118-4bf7-9aa9-28de4582e840",
   "metadata": {},
   "outputs": [
    {
     "data": {
      "text/html": [
       "<div>\n",
       "<style scoped>\n",
       "    .dataframe tbody tr th:only-of-type {\n",
       "        vertical-align: middle;\n",
       "    }\n",
       "\n",
       "    .dataframe tbody tr th {\n",
       "        vertical-align: top;\n",
       "    }\n",
       "\n",
       "    .dataframe thead th {\n",
       "        text-align: right;\n",
       "    }\n",
       "</style>\n",
       "<table border=\"1\" class=\"dataframe\">\n",
       "  <thead>\n",
       "    <tr style=\"text-align: right;\">\n",
       "      <th></th>\n",
       "      <th>age</th>\n",
       "      <th>workclass</th>\n",
       "      <th>fnlwgt</th>\n",
       "      <th>education</th>\n",
       "      <th>educationNum</th>\n",
       "      <th>maritalStatus</th>\n",
       "      <th>occupation</th>\n",
       "      <th>relationship</th>\n",
       "      <th>race</th>\n",
       "      <th>sex</th>\n",
       "      <th>capitalGain</th>\n",
       "      <th>capitalLoss</th>\n",
       "      <th>hoursPerWeek</th>\n",
       "      <th>nativeCountry</th>\n",
       "      <th>outputClass</th>\n",
       "    </tr>\n",
       "  </thead>\n",
       "  <tbody>\n",
       "    <tr>\n",
       "      <th>0</th>\n",
       "      <td>39</td>\n",
       "      <td>State-gov</td>\n",
       "      <td>77516</td>\n",
       "      <td>Bachelors</td>\n",
       "      <td>13</td>\n",
       "      <td>Never-married</td>\n",
       "      <td>Adm-clerical</td>\n",
       "      <td>Not-in-family</td>\n",
       "      <td>White</td>\n",
       "      <td>Male</td>\n",
       "      <td>2174</td>\n",
       "      <td>0</td>\n",
       "      <td>40</td>\n",
       "      <td>United-States</td>\n",
       "      <td>&lt;=50K</td>\n",
       "    </tr>\n",
       "    <tr>\n",
       "      <th>1</th>\n",
       "      <td>50</td>\n",
       "      <td>Self-emp-not-inc</td>\n",
       "      <td>83311</td>\n",
       "      <td>Bachelors</td>\n",
       "      <td>13</td>\n",
       "      <td>Married-civ-spouse</td>\n",
       "      <td>Exec-managerial</td>\n",
       "      <td>Husband</td>\n",
       "      <td>White</td>\n",
       "      <td>Male</td>\n",
       "      <td>0</td>\n",
       "      <td>0</td>\n",
       "      <td>13</td>\n",
       "      <td>United-States</td>\n",
       "      <td>&lt;=50K</td>\n",
       "    </tr>\n",
       "    <tr>\n",
       "      <th>2</th>\n",
       "      <td>38</td>\n",
       "      <td>Private</td>\n",
       "      <td>215646</td>\n",
       "      <td>HS-grad</td>\n",
       "      <td>9</td>\n",
       "      <td>Divorced</td>\n",
       "      <td>Handlers-cleaners</td>\n",
       "      <td>Not-in-family</td>\n",
       "      <td>White</td>\n",
       "      <td>Male</td>\n",
       "      <td>0</td>\n",
       "      <td>0</td>\n",
       "      <td>40</td>\n",
       "      <td>United-States</td>\n",
       "      <td>&lt;=50K</td>\n",
       "    </tr>\n",
       "    <tr>\n",
       "      <th>3</th>\n",
       "      <td>53</td>\n",
       "      <td>Private</td>\n",
       "      <td>234721</td>\n",
       "      <td>11th</td>\n",
       "      <td>7</td>\n",
       "      <td>Married-civ-spouse</td>\n",
       "      <td>Handlers-cleaners</td>\n",
       "      <td>Husband</td>\n",
       "      <td>Black</td>\n",
       "      <td>Male</td>\n",
       "      <td>0</td>\n",
       "      <td>0</td>\n",
       "      <td>40</td>\n",
       "      <td>United-States</td>\n",
       "      <td>&lt;=50K</td>\n",
       "    </tr>\n",
       "    <tr>\n",
       "      <th>4</th>\n",
       "      <td>28</td>\n",
       "      <td>Private</td>\n",
       "      <td>338409</td>\n",
       "      <td>Bachelors</td>\n",
       "      <td>13</td>\n",
       "      <td>Married-civ-spouse</td>\n",
       "      <td>Prof-specialty</td>\n",
       "      <td>Wife</td>\n",
       "      <td>Black</td>\n",
       "      <td>Female</td>\n",
       "      <td>0</td>\n",
       "      <td>0</td>\n",
       "      <td>40</td>\n",
       "      <td>Cuba</td>\n",
       "      <td>&lt;=50K</td>\n",
       "    </tr>\n",
       "    <tr>\n",
       "      <th>...</th>\n",
       "      <td>...</td>\n",
       "      <td>...</td>\n",
       "      <td>...</td>\n",
       "      <td>...</td>\n",
       "      <td>...</td>\n",
       "      <td>...</td>\n",
       "      <td>...</td>\n",
       "      <td>...</td>\n",
       "      <td>...</td>\n",
       "      <td>...</td>\n",
       "      <td>...</td>\n",
       "      <td>...</td>\n",
       "      <td>...</td>\n",
       "      <td>...</td>\n",
       "      <td>...</td>\n",
       "    </tr>\n",
       "    <tr>\n",
       "      <th>32556</th>\n",
       "      <td>27</td>\n",
       "      <td>Private</td>\n",
       "      <td>257302</td>\n",
       "      <td>Assoc-acdm</td>\n",
       "      <td>12</td>\n",
       "      <td>Married-civ-spouse</td>\n",
       "      <td>Tech-support</td>\n",
       "      <td>Wife</td>\n",
       "      <td>White</td>\n",
       "      <td>Female</td>\n",
       "      <td>0</td>\n",
       "      <td>0</td>\n",
       "      <td>38</td>\n",
       "      <td>United-States</td>\n",
       "      <td>&lt;=50K</td>\n",
       "    </tr>\n",
       "    <tr>\n",
       "      <th>32557</th>\n",
       "      <td>40</td>\n",
       "      <td>Private</td>\n",
       "      <td>154374</td>\n",
       "      <td>HS-grad</td>\n",
       "      <td>9</td>\n",
       "      <td>Married-civ-spouse</td>\n",
       "      <td>Machine-op-inspct</td>\n",
       "      <td>Husband</td>\n",
       "      <td>White</td>\n",
       "      <td>Male</td>\n",
       "      <td>0</td>\n",
       "      <td>0</td>\n",
       "      <td>40</td>\n",
       "      <td>United-States</td>\n",
       "      <td>&gt;50K</td>\n",
       "    </tr>\n",
       "    <tr>\n",
       "      <th>32558</th>\n",
       "      <td>58</td>\n",
       "      <td>Private</td>\n",
       "      <td>151910</td>\n",
       "      <td>HS-grad</td>\n",
       "      <td>9</td>\n",
       "      <td>Widowed</td>\n",
       "      <td>Adm-clerical</td>\n",
       "      <td>Unmarried</td>\n",
       "      <td>White</td>\n",
       "      <td>Female</td>\n",
       "      <td>0</td>\n",
       "      <td>0</td>\n",
       "      <td>40</td>\n",
       "      <td>United-States</td>\n",
       "      <td>&lt;=50K</td>\n",
       "    </tr>\n",
       "    <tr>\n",
       "      <th>32559</th>\n",
       "      <td>22</td>\n",
       "      <td>Private</td>\n",
       "      <td>201490</td>\n",
       "      <td>HS-grad</td>\n",
       "      <td>9</td>\n",
       "      <td>Never-married</td>\n",
       "      <td>Adm-clerical</td>\n",
       "      <td>Own-child</td>\n",
       "      <td>White</td>\n",
       "      <td>Male</td>\n",
       "      <td>0</td>\n",
       "      <td>0</td>\n",
       "      <td>20</td>\n",
       "      <td>United-States</td>\n",
       "      <td>&lt;=50K</td>\n",
       "    </tr>\n",
       "    <tr>\n",
       "      <th>32560</th>\n",
       "      <td>52</td>\n",
       "      <td>Self-emp-inc</td>\n",
       "      <td>287927</td>\n",
       "      <td>HS-grad</td>\n",
       "      <td>9</td>\n",
       "      <td>Married-civ-spouse</td>\n",
       "      <td>Exec-managerial</td>\n",
       "      <td>Wife</td>\n",
       "      <td>White</td>\n",
       "      <td>Female</td>\n",
       "      <td>15024</td>\n",
       "      <td>0</td>\n",
       "      <td>40</td>\n",
       "      <td>United-States</td>\n",
       "      <td>&gt;50K</td>\n",
       "    </tr>\n",
       "  </tbody>\n",
       "</table>\n",
       "<p>32561 rows × 15 columns</p>\n",
       "</div>"
      ],
      "text/plain": [
       "       age         workclass  fnlwgt   education  educationNum  \\\n",
       "0       39         State-gov   77516   Bachelors            13   \n",
       "1       50  Self-emp-not-inc   83311   Bachelors            13   \n",
       "2       38           Private  215646     HS-grad             9   \n",
       "3       53           Private  234721        11th             7   \n",
       "4       28           Private  338409   Bachelors            13   \n",
       "...    ...               ...     ...         ...           ...   \n",
       "32556   27           Private  257302  Assoc-acdm            12   \n",
       "32557   40           Private  154374     HS-grad             9   \n",
       "32558   58           Private  151910     HS-grad             9   \n",
       "32559   22           Private  201490     HS-grad             9   \n",
       "32560   52      Self-emp-inc  287927     HS-grad             9   \n",
       "\n",
       "            maritalStatus         occupation   relationship   race     sex  \\\n",
       "0           Never-married       Adm-clerical  Not-in-family  White    Male   \n",
       "1      Married-civ-spouse    Exec-managerial        Husband  White    Male   \n",
       "2                Divorced  Handlers-cleaners  Not-in-family  White    Male   \n",
       "3      Married-civ-spouse  Handlers-cleaners        Husband  Black    Male   \n",
       "4      Married-civ-spouse     Prof-specialty           Wife  Black  Female   \n",
       "...                   ...                ...            ...    ...     ...   \n",
       "32556  Married-civ-spouse       Tech-support           Wife  White  Female   \n",
       "32557  Married-civ-spouse  Machine-op-inspct        Husband  White    Male   \n",
       "32558             Widowed       Adm-clerical      Unmarried  White  Female   \n",
       "32559       Never-married       Adm-clerical      Own-child  White    Male   \n",
       "32560  Married-civ-spouse    Exec-managerial           Wife  White  Female   \n",
       "\n",
       "       capitalGain  capitalLoss  hoursPerWeek  nativeCountry outputClass  \n",
       "0             2174            0            40  United-States       <=50K  \n",
       "1                0            0            13  United-States       <=50K  \n",
       "2                0            0            40  United-States       <=50K  \n",
       "3                0            0            40  United-States       <=50K  \n",
       "4                0            0            40           Cuba       <=50K  \n",
       "...            ...          ...           ...            ...         ...  \n",
       "32556            0            0            38  United-States       <=50K  \n",
       "32557            0            0            40  United-States        >50K  \n",
       "32558            0            0            40  United-States       <=50K  \n",
       "32559            0            0            20  United-States       <=50K  \n",
       "32560        15024            0            40  United-States        >50K  \n",
       "\n",
       "[32561 rows x 15 columns]"
      ]
     },
     "execution_count": 4,
     "metadata": {},
     "output_type": "execute_result"
    }
   ],
   "source": [
    "test = pd.read_csv('adult-train.csv'); test"
   ]
  },
  {
   "cell_type": "markdown",
   "id": "05b68793-2321-4b07-a9ee-931ab536baf8",
   "metadata": {},
   "source": [
    "### 2.1 Pre-procesado"
   ]
  },
  {
   "cell_type": "markdown",
   "id": "2dd6d242-6aef-410c-b28b-0f018b5be3bd",
   "metadata": {},
   "source": [
    "#### Eliminación de duplicados"
   ]
  },
  {
   "cell_type": "code",
   "execution_count": 5,
   "id": "fd9477a9-978f-41a6-acb8-a94b20205332",
   "metadata": {},
   "outputs": [
    {
     "name": "stdout",
     "output_type": "stream",
     "text": [
      "4\n",
      "24\n"
     ]
    }
   ],
   "source": [
    "print(datos.duplicated().sum()); print(test.duplicated().sum()) #Cuantos datos duplicados"
   ]
  },
  {
   "cell_type": "code",
   "execution_count": 6,
   "id": "2a409afd-3dd6-4cd7-8923-5e0318a8ac5d",
   "metadata": {},
   "outputs": [],
   "source": [
    "datos = datos.drop_duplicates() #Eliminacion de duplicados\n",
    "test = test.drop_duplicates()"
   ]
  },
  {
   "cell_type": "code",
   "execution_count": 7,
   "id": "dd7d221c-b955-4d1c-8ac8-bcd963c4b6af",
   "metadata": {},
   "outputs": [
    {
     "name": "stdout",
     "output_type": "stream",
     "text": [
      "0\n",
      "0\n"
     ]
    }
   ],
   "source": [
    "print(datos.duplicated().sum()); print(test.duplicated().sum())"
   ]
  },
  {
   "cell_type": "markdown",
   "id": "ed730673-6d94-4525-9e43-9dbf8ac622e4",
   "metadata": {},
   "source": [
    "#### Eliminar columna id"
   ]
  },
  {
   "cell_type": "code",
   "execution_count": 8,
   "id": "8ece4f7c-ab11-41b8-ac40-6fad7f93eaac",
   "metadata": {},
   "outputs": [],
   "source": [
    "datos = datos.iloc[:,1:] #Eliminar columna id de breast_cancer_database"
   ]
  },
  {
   "cell_type": "markdown",
   "id": "17d68d80-1168-4f77-8557-f32ea9ba4750",
   "metadata": {},
   "source": [
    "#### Substituir variables categóricas"
   ]
  },
  {
   "cell_type": "code",
   "execution_count": 9,
   "id": "c6667529-e4d7-471a-a761-7629796e70a5",
   "metadata": {},
   "outputs": [
    {
     "name": "stdout",
     "output_type": "stream",
     "text": [
      "M: 137\tB 282\n"
     ]
    }
   ],
   "source": [
    "print(f\"M: {sum(datos['diagnosis']=='M')}\\tB {sum(datos['diagnosis']=='B')}\")"
   ]
  },
  {
   "cell_type": "markdown",
   "id": "71c6e615-5882-49a8-b413-a0989f8b245d",
   "metadata": {},
   "source": [
    " M es la clase minoritaria, se le asociará 0"
   ]
  },
  {
   "cell_type": "code",
   "execution_count": 10,
   "id": "cf9f9e8c-ac9d-49d6-a908-4aa2b131de6e",
   "metadata": {},
   "outputs": [],
   "source": [
    "datos['diagnosis'] = datos['diagnosis'].map({'M': 0, 'B': 1}) #Cambiamos las variables categóricas por numéricas"
   ]
  },
  {
   "cell_type": "code",
   "execution_count": 11,
   "id": "ce27ac51-3df4-4429-9b4f-8e636eb5e601",
   "metadata": {},
   "outputs": [
    {
     "name": "stdout",
     "output_type": "stream",
     "text": [
      "<=50K: 24698\t>50K 7839\n"
     ]
    }
   ],
   "source": [
    "print(f\"<=50K: {sum(test['outputClass']=='<=50K')}\\t>50K {sum(test['outputClass']=='>50K')}\")"
   ]
  },
  {
   "cell_type": "markdown",
   "id": "97e2d91a-e7ca-4197-9fd6-e396b2cef6a6",
   "metadata": {},
   "source": [
    "La clase minoritaria es >50K, se le asociará 0\n"
   ]
  },
  {
   "cell_type": "code",
   "execution_count": 12,
   "id": "310505af-32e2-4c20-b64a-9fc6b0fb689d",
   "metadata": {},
   "outputs": [
    {
     "name": "stderr",
     "output_type": "stream",
     "text": [
      "/tmp/ipykernel_4444/2423415433.py:1: SettingWithCopyWarning: \n",
      "A value is trying to be set on a copy of a slice from a DataFrame.\n",
      "Try using .loc[row_indexer,col_indexer] = value instead\n",
      "\n",
      "See the caveats in the documentation: https://pandas.pydata.org/pandas-docs/stable/user_guide/indexing.html#returning-a-view-versus-a-copy\n",
      "  test['outputClass'] =test['outputClass'].map({'>50K': 0, '<=50K': 1}) #Cambiamos las variables categóricas por numéricas\n"
     ]
    }
   ],
   "source": [
    "test['outputClass'] =test['outputClass'].map({'>50K': 0, '<=50K': 1}) #Cambiamos las variables categóricas por numéricas"
   ]
  },
  {
   "cell_type": "markdown",
   "id": "d76a116c-25cc-43b5-9ce0-1b5cea8ade8b",
   "metadata": {},
   "source": [
    "#### Datos faltantes"
   ]
  },
  {
   "cell_type": "code",
   "execution_count": 13,
   "id": "349a1a3a-88d7-48e3-8c38-4b000bafae62",
   "metadata": {},
   "outputs": [
    {
     "data": {
      "text/plain": [
       "diagnosis                   0\n",
       "radius_mean                 0\n",
       "texture_mean                0\n",
       "perimeter_mean              0\n",
       "area_mean                   0\n",
       "smoothness_mean             0\n",
       "compactness_mean            0\n",
       "concavity_mean              0\n",
       "concave_points_mean         0\n",
       "symmetry_mean               0\n",
       "fractal_dimension_mean      0\n",
       "radius_sd                  42\n",
       "texture_sd                 37\n",
       "perimeter_sd               30\n",
       "area_sd                    39\n",
       "smoothness_sd              35\n",
       "compactness_sd             22\n",
       "concavity_sd               12\n",
       "concave_points_sd          13\n",
       "symmetry_sd                13\n",
       "fractal_dimension_sd       16\n",
       "radius_worst                0\n",
       "texture_worst               0\n",
       "perimeter_worst             0\n",
       "area_worst                  0\n",
       "smoothness_worst            0\n",
       "compactness_worst           0\n",
       "concavity_worst             0\n",
       "concave_points_worst        0\n",
       "symmetry_worst              0\n",
       "fractal_dimension_worst     0\n",
       "dtype: int64"
      ]
     },
     "execution_count": 13,
     "metadata": {},
     "output_type": "execute_result"
    }
   ],
   "source": [
    "pd.isna(datos).sum() #muestra cuantos MVs tiene cada parámetro"
   ]
  },
  {
   "cell_type": "code",
   "execution_count": 14,
   "id": "1caef129-f5f8-450f-a59f-3e25d8d58519",
   "metadata": {},
   "outputs": [
    {
     "data": {
      "text/plain": [
       "age                 0\n",
       "workclass        1836\n",
       "fnlwgt              0\n",
       "education           0\n",
       "educationNum        0\n",
       "maritalStatus       0\n",
       "occupation       1843\n",
       "relationship        0\n",
       "race                0\n",
       "sex                 0\n",
       "capitalGain         0\n",
       "capitalLoss         0\n",
       "hoursPerWeek        0\n",
       "nativeCountry     582\n",
       "outputClass         0\n",
       "dtype: int64"
      ]
     },
     "execution_count": 14,
     "metadata": {},
     "output_type": "execute_result"
    }
   ],
   "source": [
    "pd.isna(test).sum() "
   ]
  },
  {
   "cell_type": "code",
   "execution_count": 15,
   "id": "9f53a10a-df26-4092-b40c-36d98b42de25",
   "metadata": {},
   "outputs": [],
   "source": [
    "#Imputación simple (usando la mediana)\n",
    "SimpImp_med= SimpleImputer(missing_values = np.nan,strategy = 'median')\n",
    "data_SimpImp_med = SimpImp_med.fit_transform(datos)\n",
    "data_SimpImp_med = pd.DataFrame(data_SimpImp_med, columns=datos.columns)\n",
    "\n",
    "#Imputación simple (usando la mediana)\n",
    "SimpImp_mean = SimpleImputer(missing_values = np.nan,strategy = 'mean')\n",
    "data_SimpImp_mean = SimpImp_mean.fit_transform(datos)\n",
    "data_SimpImp_mean = pd.DataFrame(data_SimpImp_mean, columns=datos.columns)\n",
    "\n",
    "#Imputación mediante los k vecinos más cercanos KNN\n",
    "KNNImp = KNNImputer(n_neighbors=3, weights=\"uniform\")\n",
    "data_KNNImp = KNNImp.fit_transform(datos)\n",
    "data_KNNImp = pd.DataFrame(data_KNNImp, columns=datos.columns)"
   ]
  },
  {
   "cell_type": "code",
   "execution_count": 16,
   "id": "7b70f670-35f4-4ef0-9963-f260edf7d71a",
   "metadata": {},
   "outputs": [],
   "source": [
    "test = test.drop(columns=['workclass','occupation','nativeCountry'])\n"
   ]
  },
  {
   "cell_type": "code",
   "execution_count": 17,
   "id": "031dcfb7-d2cf-43b9-8ef4-4264fc65dae3",
   "metadata": {},
   "outputs": [
    {
     "data": {
      "image/png": "[encoded data removed]",
      "text/plain": [
       "<Figure size 1000x800 with 2 Axes>"
      ]
     },
     "metadata": {},
     "output_type": "display_data"
    }
   ],
   "source": [
    "plt.figure(figsize=(10, 8))\n",
    "sns.heatmap(datos.iloc[:,1:11].corr(), annot=True, cmap='coolwarm', fmt=\".2f\")\n",
    "plt.title('Gráfico de correlaciones')\n",
    "plt.show()"
   ]
  },
  {
   "cell_type": "code",
   "execution_count": null,
   "id": "132f7646-4a61-4323-aff3-78cbbd60aaaf",
   "metadata": {},
   "outputs": [],
   "source": []
  },
  {
   "cell_type": "markdown",
   "id": "446d80ed",
   "metadata": {},
   "source": [
    "# 3. Creación y Validación de Modelos\n",
    "\n",
    "\n",
    "Escribe en la siguiente celda de código las instrucciones necesarias para crear, validar y seleccionar los modelos aprendidos a partir de los datos tratados en la sección anterior. Podéis añadir las celdas que necesitéis."
   ]
  },
  {
   "cell_type": "code",
   "execution_count": 19,
   "id": "aac67a32",
   "metadata": {},
   "outputs": [],
   "source": [
    "#Dividimos los datos\n",
    "X_1 = data_KNNImp.iloc[:,1:]\n",
    "y_1 = data_KNNImp.iloc[:,0:1]\n",
    "\n",
    "X_2 = test.iloc[:,1:]\n",
    "y_2 = test.iloc[:,0:1]\n",
    "\n",
    "#normalizar\n",
    "X_1 = minmax_scale(X_1)\n",
    "#X_2 = minmax_scale(X_2)\n",
    "\n",
    "y_1 = y_1.values.ravel() #esto es para arreglar un asunto de formato\n",
    "y_2 = y_2.values.ravel() #esto es para arreglar un asunto de formato\n",
    "\n",
    "\n",
    "#train-test\n",
    "X_train_1, X_test_1, y_train_1, y_test_1 = train_test_split(X_1, y_1, random_state=SEMILLA, stratify=y_1, train_size = 0.8) #80% train, 20% tests\n",
    "#X_train_2, X_test_2, y_train_2, y_test_2 = train_test_split(X_2, y_2, random_state=SEMILLA, stratify=y_2, train_size = 0.8) #80% train, 20% tests\n"
   ]
  },
  {
   "cell_type": "code",
   "execution_count": 20,
   "id": "a5a3c146-ccf2-48a4-91f3-51fb25141de5",
   "metadata": {},
   "outputs": [],
   "source": [
    "#inicialización de modelo y parámetros de búsqueda\n",
    "modelo_KNN = KNeighborsClassifier()\n",
    "\n",
    "param_grid = {\n",
    "    'n_neighbors': list(range(1,11)), #Más vecinos pueden hacer que el modelo sea menos flexible\n",
    "    'weights': ['uniform', 'distance'] #como se calcula la importancia de cada vecion\n",
    "}\n",
    "grid_search = GridSearchCV(estimator=modelo_KNN, param_grid=param_grid, cv=5, scoring='accuracy',n_jobs=-1)\n",
    "\n"
   ]
  },
  {
   "cell_type": "code",
   "execution_count": 21,
   "id": "e2718a60-b445-407d-aa30-6756887d5ee6",
   "metadata": {},
   "outputs": [
    {
     "data": {
      "text/html": [
       "<style>#sk-container-id-1 {color: black;}#sk-container-id-1 pre{padding: 0;}#sk-container-id-1 div.sk-toggleable {background-color: white;}#sk-container-id-1 label.sk-toggleable__label {cursor: pointer;display: block;width: 100%;margin-bottom: 0;padding: 0.3em;box-sizing: border-box;text-align: center;}#sk-container-id-1 label.sk-toggleable__label-arrow:before {content: \"▸\";float: left;margin-right: 0.25em;color: #696969;}#sk-container-id-1 label.sk-toggleable__label-arrow:hover:before {color: black;}#sk-container-id-1 div.sk-estimator:hover label.sk-toggleable__label-arrow:before {color: black;}#sk-container-id-1 div.sk-toggleable__content {max-height: 0;max-width: 0;overflow: hidden;text-align: left;background-color: #f0f8ff;}#sk-container-id-1 div.sk-toggleable__content pre {margin: 0.2em;color: black;border-radius: 0.25em;background-color: #f0f8ff;}#sk-container-id-1 input.sk-toggleable__control:checked~div.sk-toggleable__content {max-height: 200px;max-width: 100%;overflow: auto;}#sk-container-id-1 input.sk-toggleable__control:checked~label.sk-toggleable__label-arrow:before {content: \"▾\";}#sk-container-id-1 div.sk-estimator input.sk-toggleable__control:checked~label.sk-toggleable__label {background-color: #d4ebff;}#sk-container-id-1 div.sk-label input.sk-toggleable__control:checked~label.sk-toggleable__label {background-color: #d4ebff;}#sk-container-id-1 input.sk-hidden--visually {border: 0;clip: rect(1px 1px 1px 1px);clip: rect(1px, 1px, 1px, 1px);height: 1px;margin: -1px;overflow: hidden;padding: 0;position: absolute;width: 1px;}#sk-container-id-1 div.sk-estimator {font-family: monospace;background-color: #f0f8ff;border: 1px dotted black;border-radius: 0.25em;box-sizing: border-box;margin-bottom: 0.5em;}#sk-container-id-1 div.sk-estimator:hover {background-color: #d4ebff;}#sk-container-id-1 div.sk-parallel-item::after {content: \"\";width: 100%;border-bottom: 1px solid gray;flex-grow: 1;}#sk-container-id-1 div.sk-label:hover label.sk-toggleable__label {background-color: #d4ebff;}#sk-container-id-1 div.sk-serial::before {content: \"\";position: absolute;border-left: 1px solid gray;box-sizing: border-box;top: 0;bottom: 0;left: 50%;z-index: 0;}#sk-container-id-1 div.sk-serial {display: flex;flex-direction: column;align-items: center;background-color: white;padding-right: 0.2em;padding-left: 0.2em;position: relative;}#sk-container-id-1 div.sk-item {position: relative;z-index: 1;}#sk-container-id-1 div.sk-parallel {display: flex;align-items: stretch;justify-content: center;background-color: white;position: relative;}#sk-container-id-1 div.sk-item::before, #sk-container-id-1 div.sk-parallel-item::before {content: \"\";position: absolute;border-left: 1px solid gray;box-sizing: border-box;top: 0;bottom: 0;left: 50%;z-index: -1;}#sk-container-id-1 div.sk-parallel-item {display: flex;flex-direction: column;z-index: 1;position: relative;background-color: white;}#sk-container-id-1 div.sk-parallel-item:first-child::after {align-self: flex-end;width: 50%;}#sk-container-id-1 div.sk-parallel-item:last-child::after {align-self: flex-start;width: 50%;}#sk-container-id-1 div.sk-parallel-item:only-child::after {width: 0;}#sk-container-id-1 div.sk-dashed-wrapped {border: 1px dashed gray;margin: 0 0.4em 0.5em 0.4em;box-sizing: border-box;padding-bottom: 0.4em;background-color: white;}#sk-container-id-1 div.sk-label label {font-family: monospace;font-weight: bold;display: inline-block;line-height: 1.2em;}#sk-container-id-1 div.sk-label-container {text-align: center;}#sk-container-id-1 div.sk-container {/* jupyter's `normalize.less` sets `[hidden] { display: none; }` but bootstrap.min.css set `[hidden] { display: none !important; }` so we also need the `!important` here to be able to override the default hidden behavior on the sphinx rendered scikit-learn.org. See: https://github.com/scikit-learn/scikit-learn/issues/21755 */display: inline-block !important;position: relative;}#sk-container-id-1 div.sk-text-repr-fallback {display: none;}</style><div id=\"sk-container-id-1\" class=\"sk-top-container\"><div class=\"sk-text-repr-fallback\"><pre>GridSearchCV(cv=5, estimator=KNeighborsClassifier(), n_jobs=-1,\n",
       "             param_grid={&#x27;n_neighbors&#x27;: [1, 2, 3, 4, 5, 6, 7, 8, 9, 10],\n",
       "                         &#x27;weights&#x27;: [&#x27;uniform&#x27;, &#x27;distance&#x27;]},\n",
       "             scoring=&#x27;accuracy&#x27;)</pre><b>In a Jupyter environment, please rerun this cell to show the HTML representation or trust the notebook. <br />On GitHub, the HTML representation is unable to render, please try loading this page with nbviewer.org.</b></div><div class=\"sk-container\" hidden><div class=\"sk-item sk-dashed-wrapped\"><div class=\"sk-label-container\"><div class=\"sk-label sk-toggleable\"><input class=\"sk-toggleable__control sk-hidden--visually\" id=\"sk-estimator-id-1\" type=\"checkbox\" ><label for=\"sk-estimator-id-1\" class=\"sk-toggleable__label sk-toggleable__label-arrow\">GridSearchCV</label><div class=\"sk-toggleable__content\"><pre>GridSearchCV(cv=5, estimator=KNeighborsClassifier(), n_jobs=-1,\n",
       "             param_grid={&#x27;n_neighbors&#x27;: [1, 2, 3, 4, 5, 6, 7, 8, 9, 10],\n",
       "                         &#x27;weights&#x27;: [&#x27;uniform&#x27;, &#x27;distance&#x27;]},\n",
       "             scoring=&#x27;accuracy&#x27;)</pre></div></div></div><div class=\"sk-parallel\"><div class=\"sk-parallel-item\"><div class=\"sk-item\"><div class=\"sk-label-container\"><div class=\"sk-label sk-toggleable\"><input class=\"sk-toggleable__control sk-hidden--visually\" id=\"sk-estimator-id-2\" type=\"checkbox\" ><label for=\"sk-estimator-id-2\" class=\"sk-toggleable__label sk-toggleable__label-arrow\">estimator: KNeighborsClassifier</label><div class=\"sk-toggleable__content\"><pre>KNeighborsClassifier()</pre></div></div></div><div class=\"sk-serial\"><div class=\"sk-item\"><div class=\"sk-estimator sk-toggleable\"><input class=\"sk-toggleable__control sk-hidden--visually\" id=\"sk-estimator-id-3\" type=\"checkbox\" ><label for=\"sk-estimator-id-3\" class=\"sk-toggleable__label sk-toggleable__label-arrow\">KNeighborsClassifier</label><div class=\"sk-toggleable__content\"><pre>KNeighborsClassifier()</pre></div></div></div></div></div></div></div></div></div></div>"
      ],
      "text/plain": [
       "GridSearchCV(cv=5, estimator=KNeighborsClassifier(), n_jobs=-1,\n",
       "             param_grid={'n_neighbors': [1, 2, 3, 4, 5, 6, 7, 8, 9, 10],\n",
       "                         'weights': ['uniform', 'distance']},\n",
       "             scoring='accuracy')"
      ]
     },
     "execution_count": 21,
     "metadata": {},
     "output_type": "execute_result"
    }
   ],
   "source": [
    "grid_search.fit(X_train_1, y_train_1)"
   ]
  },
  {
   "cell_type": "code",
   "execution_count": 22,
   "id": "58542674-e3e9-4ed4-a057-d3616103d96e",
   "metadata": {},
   "outputs": [],
   "source": [
    "mejores_modelos = grid_search.cv_results_['rank_test_score'] #ranking de los mejores modelos\n",
    "\n",
    "mejores_modelos = [i for i in range(len(mejores_modelos)) if mejores_modelos[i]==1] #Coge los modelos que han empatado en accuracy\n",
    "\n",
    "min_sd = min([grid_search.cv_results_['std_test_score'][i] for i in mejores_modelos]) #Calcula la desviación típica mínima que se ha obtenido entre los mejore modelos\n",
    "\n",
    "mejores_modelos = [i for i in mejores_modelos if grid_search.cv_results_['std_test_score'][i] == min_sd] #elimina los modelos dentro de mejores modelos con más desviación típica\n",
    "mejores_modelos = [grid_search.cv_results_['params'][i] for i in mejores_modelos] #cambio los índices por los parámetros\n"
   ]
  },
  {
   "cell_type": "code",
   "execution_count": 23,
   "id": "92e3b627-3cfc-4e47-81aa-2bf23c3d3585",
   "metadata": {},
   "outputs": [
    {
     "data": {
      "text/plain": [
       "[<matplotlib.lines.Line2D at 0x7f46da383110>]"
      ]
     },
     "execution_count": 23,
     "metadata": {},
     "output_type": "execute_result"
    },
    {
     "data": {
      "image/png": "[encoded data removed]",
      "text/plain": [
       "<Figure size 640x480 with 1 Axes>"
      ]
     },
     "metadata": {},
     "output_type": "display_data"
    }
   ],
   "source": [
    "plt.plot(range(len(grid_search.cv_results_)+5),grid_search.cv_results_['rank_test_score'])"
   ]
  },
  {
   "cell_type": "code",
   "execution_count": 24,
   "id": "7bd1eef1-4c26-4d9b-8697-8cb1d41093dc",
   "metadata": {},
   "outputs": [
    {
     "name": "stdout",
     "output_type": "stream",
     "text": [
      "[{'n_neighbors': 4, 'weights': 'uniform'}, {'n_neighbors': 4, 'weights': 'distance'}]\n"
     ]
    }
   ],
   "source": [
    "print(mejores_modelos)"
   ]
  },
  {
   "cell_type": "code",
   "execution_count": 35,
   "id": "8cf44ef1-8609-4762-808d-5728d29a75c1",
   "metadata": {},
   "outputs": [],
   "source": [
    "modelo_DT = DecisionTreeClassifier(criterion = 'entropy')\n",
    "\n",
    "param_grid_DT = {\n",
    "    'min_samples_split': list(range(2,11)), #\n",
    "    'max_depth': list(range(1,11)) \n",
    "}\n",
    "grid_search_DT = GridSearchCV(estimator=modelo_DT, param_grid=param_grid_DT, cv=5, scoring='accuracy',n_jobs=-1)\n"
   ]
  },
  {
   "cell_type": "code",
   "execution_count": 36,
   "id": "5d881396-25cb-4f25-86f1-5f45f10e2839",
   "metadata": {},
   "outputs": [
    {
     "data": {
      "text/html": [
       "<style>#sk-container-id-3 {color: black;}#sk-container-id-3 pre{padding: 0;}#sk-container-id-3 div.sk-toggleable {background-color: white;}#sk-container-id-3 label.sk-toggleable__label {cursor: pointer;display: block;width: 100%;margin-bottom: 0;padding: 0.3em;box-sizing: border-box;text-align: center;}#sk-container-id-3 label.sk-toggleable__label-arrow:before {content: \"▸\";float: left;margin-right: 0.25em;color: #696969;}#sk-container-id-3 label.sk-toggleable__label-arrow:hover:before {color: black;}#sk-container-id-3 div.sk-estimator:hover label.sk-toggleable__label-arrow:before {color: black;}#sk-container-id-3 div.sk-toggleable__content {max-height: 0;max-width: 0;overflow: hidden;text-align: left;background-color: #f0f8ff;}#sk-container-id-3 div.sk-toggleable__content pre {margin: 0.2em;color: black;border-radius: 0.25em;background-color: #f0f8ff;}#sk-container-id-3 input.sk-toggleable__control:checked~div.sk-toggleable__content {max-height: 200px;max-width: 100%;overflow: auto;}#sk-container-id-3 input.sk-toggleable__control:checked~label.sk-toggleable__label-arrow:before {content: \"▾\";}#sk-container-id-3 div.sk-estimator input.sk-toggleable__control:checked~label.sk-toggleable__label {background-color: #d4ebff;}#sk-container-id-3 div.sk-label input.sk-toggleable__control:checked~label.sk-toggleable__label {background-color: #d4ebff;}#sk-container-id-3 input.sk-hidden--visually {border: 0;clip: rect(1px 1px 1px 1px);clip: rect(1px, 1px, 1px, 1px);height: 1px;margin: -1px;overflow: hidden;padding: 0;position: absolute;width: 1px;}#sk-container-id-3 div.sk-estimator {font-family: monospace;background-color: #f0f8ff;border: 1px dotted black;border-radius: 0.25em;box-sizing: border-box;margin-bottom: 0.5em;}#sk-container-id-3 div.sk-estimator:hover {background-color: #d4ebff;}#sk-container-id-3 div.sk-parallel-item::after {content: \"\";width: 100%;border-bottom: 1px solid gray;flex-grow: 1;}#sk-container-id-3 div.sk-label:hover label.sk-toggleable__label {background-color: #d4ebff;}#sk-container-id-3 div.sk-serial::before {content: \"\";position: absolute;border-left: 1px solid gray;box-sizing: border-box;top: 0;bottom: 0;left: 50%;z-index: 0;}#sk-container-id-3 div.sk-serial {display: flex;flex-direction: column;align-items: center;background-color: white;padding-right: 0.2em;padding-left: 0.2em;position: relative;}#sk-container-id-3 div.sk-item {position: relative;z-index: 1;}#sk-container-id-3 div.sk-parallel {display: flex;align-items: stretch;justify-content: center;background-color: white;position: relative;}#sk-container-id-3 div.sk-item::before, #sk-container-id-3 div.sk-parallel-item::before {content: \"\";position: absolute;border-left: 1px solid gray;box-sizing: border-box;top: 0;bottom: 0;left: 50%;z-index: -1;}#sk-container-id-3 div.sk-parallel-item {display: flex;flex-direction: column;z-index: 1;position: relative;background-color: white;}#sk-container-id-3 div.sk-parallel-item:first-child::after {align-self: flex-end;width: 50%;}#sk-container-id-3 div.sk-parallel-item:last-child::after {align-self: flex-start;width: 50%;}#sk-container-id-3 div.sk-parallel-item:only-child::after {width: 0;}#sk-container-id-3 div.sk-dashed-wrapped {border: 1px dashed gray;margin: 0 0.4em 0.5em 0.4em;box-sizing: border-box;padding-bottom: 0.4em;background-color: white;}#sk-container-id-3 div.sk-label label {font-family: monospace;font-weight: bold;display: inline-block;line-height: 1.2em;}#sk-container-id-3 div.sk-label-container {text-align: center;}#sk-container-id-3 div.sk-container {/* jupyter's `normalize.less` sets `[hidden] { display: none; }` but bootstrap.min.css set `[hidden] { display: none !important; }` so we also need the `!important` here to be able to override the default hidden behavior on the sphinx rendered scikit-learn.org. See: https://github.com/scikit-learn/scikit-learn/issues/21755 */display: inline-block !important;position: relative;}#sk-container-id-3 div.sk-text-repr-fallback {display: none;}</style><div id=\"sk-container-id-3\" class=\"sk-top-container\"><div class=\"sk-text-repr-fallback\"><pre>GridSearchCV(cv=5, estimator=DecisionTreeClassifier(criterion=&#x27;entropy&#x27;),\n",
       "             n_jobs=-1,\n",
       "             param_grid={&#x27;max_depth&#x27;: [1, 2, 3, 4, 5, 6, 7, 8, 9, 10],\n",
       "                         &#x27;min_samples_split&#x27;: [2, 3, 4, 5, 6, 7, 8, 9, 10]},\n",
       "             scoring=&#x27;accuracy&#x27;)</pre><b>In a Jupyter environment, please rerun this cell to show the HTML representation or trust the notebook. <br />On GitHub, the HTML representation is unable to render, please try loading this page with nbviewer.org.</b></div><div class=\"sk-container\" hidden><div class=\"sk-item sk-dashed-wrapped\"><div class=\"sk-label-container\"><div class=\"sk-label sk-toggleable\"><input class=\"sk-toggleable__control sk-hidden--visually\" id=\"sk-estimator-id-7\" type=\"checkbox\" ><label for=\"sk-estimator-id-7\" class=\"sk-toggleable__label sk-toggleable__label-arrow\">GridSearchCV</label><div class=\"sk-toggleable__content\"><pre>GridSearchCV(cv=5, estimator=DecisionTreeClassifier(criterion=&#x27;entropy&#x27;),\n",
       "             n_jobs=-1,\n",
       "             param_grid={&#x27;max_depth&#x27;: [1, 2, 3, 4, 5, 6, 7, 8, 9, 10],\n",
       "                         &#x27;min_samples_split&#x27;: [2, 3, 4, 5, 6, 7, 8, 9, 10]},\n",
       "             scoring=&#x27;accuracy&#x27;)</pre></div></div></div><div class=\"sk-parallel\"><div class=\"sk-parallel-item\"><div class=\"sk-item\"><div class=\"sk-label-container\"><div class=\"sk-label sk-toggleable\"><input class=\"sk-toggleable__control sk-hidden--visually\" id=\"sk-estimator-id-8\" type=\"checkbox\" ><label for=\"sk-estimator-id-8\" class=\"sk-toggleable__label sk-toggleable__label-arrow\">estimator: DecisionTreeClassifier</label><div class=\"sk-toggleable__content\"><pre>DecisionTreeClassifier(criterion=&#x27;entropy&#x27;)</pre></div></div></div><div class=\"sk-serial\"><div class=\"sk-item\"><div class=\"sk-estimator sk-toggleable\"><input class=\"sk-toggleable__control sk-hidden--visually\" id=\"sk-estimator-id-9\" type=\"checkbox\" ><label for=\"sk-estimator-id-9\" class=\"sk-toggleable__label sk-toggleable__label-arrow\">DecisionTreeClassifier</label><div class=\"sk-toggleable__content\"><pre>DecisionTreeClassifier(criterion=&#x27;entropy&#x27;)</pre></div></div></div></div></div></div></div></div></div></div>"
      ],
      "text/plain": [
       "GridSearchCV(cv=5, estimator=DecisionTreeClassifier(criterion='entropy'),\n",
       "             n_jobs=-1,\n",
       "             param_grid={'max_depth': [1, 2, 3, 4, 5, 6, 7, 8, 9, 10],\n",
       "                         'min_samples_split': [2, 3, 4, 5, 6, 7, 8, 9, 10]},\n",
       "             scoring='accuracy')"
      ]
     },
     "execution_count": 36,
     "metadata": {},
     "output_type": "execute_result"
    }
   ],
   "source": [
    "grid_search_DT.fit(X_1,y_1)"
   ]
  },
  {
   "cell_type": "code",
   "execution_count": 37,
   "id": "92a98cac-fc39-4056-abdc-fff1855b17e4",
   "metadata": {},
   "outputs": [],
   "source": [
    "mejores_modelos_DT = grid_search_DT.cv_results_['rank_test_score'] #ranking de los mejores modelos\n",
    "\n",
    "mejores_modelos_DT = [i for i in range(len(mejores_modelos_DT)) if mejores_modelos_DT[i]==1] #Coge los modelos que han empatado en accuracy\n",
    "\n",
    "min_sd_DT = min([grid_search_DT.cv_results_['std_test_score'][i] for i in mejores_modelos_DT]) #Calcula la desviación típica mínima que se ha obtenido entre los mejore modelos\n",
    "\n",
    "mejores_modelos_DT = [i for i in mejores_modelos_DT if grid_search_DT.cv_results_['std_test_score'][i] == min_sd_DT] #elimina los modelos dentro de mejores modelos con más desviación típica\n",
    "mejores_modelos_DT = [grid_search_DT.cv_results_['params'][i] for i in mejores_modelos_DT] #cambio los índices por los parámetros\n"
   ]
  },
  {
   "cell_type": "code",
   "execution_count": 38,
   "id": "6fb21f78-180d-4956-a40f-2a4f5af24eac",
   "metadata": {},
   "outputs": [
    {
     "name": "stdout",
     "output_type": "stream",
     "text": [
      "[{'max_depth': 3, 'min_samples_split': 4}, {'max_depth': 3, 'min_samples_split': 7}, {'max_depth': 3, 'min_samples_split': 10}]\n"
     ]
    }
   ],
   "source": [
    "print(mejores_modelos_DT)"
   ]
  }
 ],
 "metadata": {
  "kernelspec": {
   "display_name": "Python 3 (ipykernel)",
   "language": "python",
   "name": "python3"
  },
  "language_info": {
   "codemirror_mode": {
    "name": "ipython",
    "version": 3
   },
   "file_extension": ".py",
   "mimetype": "text/x-python",
   "name": "python",
   "nbconvert_exporter": "python",
   "pygments_lexer": "ipython3",
   "version": "3.11.6"
  }
 },
 "nbformat": 4,
 "nbformat_minor": 5
}
