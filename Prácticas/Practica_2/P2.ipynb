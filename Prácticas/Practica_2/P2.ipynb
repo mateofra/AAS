{
 "cells": [
  {
   "cell_type": "markdown",
   "id": "db43f463",
   "metadata": {},
   "source": [
    "## Aprendizaje Automático Supervisado\n",
    "\n",
    "## 3º GrIA, USC\n",
    "\n",
    "# Práctica 2: Máquinas de Vectores de Soporte\n",
    "\n",
    "Este fichero Notebook contiene la solución del siguiente equipo al guion de prácticas proporcionado en el Aula Virtual de la asignatura.\n",
    "\n",
    "Miembros del equipo:\n",
    "- _Estudiante1_: Nombre, Apellidos\n",
    "- _Estudiante2_: Nombre, Apellidos\n",
    "- _Estudiante3_: Nombre, Apellidos"
   ]
  },
  {
   "cell_type": "markdown",
   "id": "24dedf0c",
   "metadata": {},
   "source": [
    "# 0. Instalación de Paquetes\n",
    "\n",
    "Escribe en la siguiente celda de código las instrucciones necesarias para cargar los paquetes de Python que necesitéis"
   ]
  },
  {
   "cell_type": "code",
   "execution_count": null,
   "id": "cec288d1",
   "metadata": {},
   "outputs": [],
   "source": [
    "import numpy as np\n",
    "import pandas as pd\n",
    "import matplotlib.pyplot as plt\n",
    "import seaborn as sns\n",
    "from sklearn.model_selection import train_test_split, cross_val_score, StratifiedKFold, GridSearchCV\n",
    "from sklearn.impute import SimpleImputer, KNNImputer\n",
    "from sklearn.neighbors import KNeighborsClassifier\n",
    "from sklearn.tree import DecisionTreeClassifier\n",
    "from sklearn.svm import SVC\n",
    "from sklearn.model_selection import train_test_split, LeaveOneOut, GridSearchCV, cross_val_score, StratifiedKFold\n",
    "from sklearn.metrics import accuracy_score, cohen_kappa_score, balanced_accuracy_score, confusion_matrix, ConfusionMatrixDisplay"
   ]
  },
  {
   "cell_type": "markdown",
   "id": "b2201945",
   "metadata": {},
   "source": [
    "Además, para garantizar la reproducibilidad de resultados vamos a fijar una semilla que se use con todos los algoritmos que tengan alguna componente no determinista (**no cambies el código de la siguiente celda**)."
   ]
  },
  {
   "cell_type": "code",
   "execution_count": null,
   "id": "0d804d67",
   "metadata": {},
   "outputs": [],
   "source": [
    "# Definir semilla\n",
    "SEMILLA = 1492\n",
    "np.random.seed(SEMILLA)"
   ]
  },
  {
   "cell_type": "markdown",
   "id": "78e7570e",
   "metadata": {},
   "source": [
    "# 1. Estudio guiado\n",
    "\n",
    "Escribe en las siguientes celdas de código las instrucciones necesarias para cargar los conjuntos de datos (ficheros csv) proporcionados en el Aula Virtual. Para la construcción y el análisis de los datos podéis añadir las celdas que necesitéis."
   ]
  },
  {
   "cell_type": "markdown",
   "id": "81c83d4c",
   "metadata": {},
   "source": [
    "## 1.1 Problema separable linealmente"
   ]
  },
  {
   "cell_type": "code",
   "execution_count": null,
   "id": "5e03bbc1",
   "metadata": {},
   "outputs": [],
   "source": [
    "dataset_1 = pd.read_csv(\"dataset_1.csv\")"
   ]
  },
  {
   "cell_type": "code",
   "execution_count": null,
   "id": "59f8df99",
   "metadata": {},
   "outputs": [],
   "source": []
  },
  {
   "cell_type": "markdown",
   "id": "34317a3e",
   "metadata": {},
   "source": [
    "## 1.2. Problema cuasi-separable linealmente"
   ]
  },
  {
   "cell_type": "code",
   "execution_count": null,
   "id": "fb69ff09",
   "metadata": {},
   "outputs": [],
   "source": [
    "dataset_2 = pd.read_csv(\"dataset_2.csv\")"
   ]
  },
  {
   "cell_type": "code",
   "execution_count": null,
   "id": "a81b38d2",
   "metadata": {},
   "outputs": [],
   "source": []
  },
  {
   "cell_type": "markdown",
   "id": "0694a673",
   "metadata": {},
   "source": [
    "## 1.3. Problema no separable linealmente (I)"
   ]
  },
  {
   "cell_type": "code",
   "execution_count": null,
   "id": "420bed38",
   "metadata": {},
   "outputs": [],
   "source": [
    "dataset_3 = pd.read_csv(\"dataset_3.csv\")"
   ]
  },
  {
   "cell_type": "code",
   "execution_count": null,
   "id": "294a33fe",
   "metadata": {},
   "outputs": [],
   "source": []
  },
  {
   "cell_type": "markdown",
   "id": "22a636e2",
   "metadata": {},
   "source": [
    "## 1.4. Problema no separable linealmente (II)"
   ]
  },
  {
   "cell_type": "code",
   "execution_count": null,
   "id": "2cbe3557",
   "metadata": {},
   "outputs": [],
   "source": [
    "dataset_4 = pd.read_csv(\"dataset_4.csv\")"
   ]
  },
  {
   "cell_type": "code",
   "execution_count": null,
   "id": "a9fc1712",
   "metadata": {},
   "outputs": [],
   "source": []
  },
  {
   "cell_type": "markdown",
   "id": "446d80ed",
   "metadata": {},
   "source": [
    "# 2. Caso práctico"
   ]
  },
  {
   "cell_type": "markdown",
   "id": "46c2d967",
   "metadata": {},
   "source": [
    "## 2.1 Breast Cancer"
   ]
  },
  {
   "cell_type": "code",
   "execution_count": null,
   "id": "0987e154",
   "metadata": {},
   "outputs": [],
   "source": [
    "bcd = pd.read_csv(\"breast-cancer-train.csv\")"
   ]
  },
  {
   "cell_type": "code",
   "execution_count": null,
   "id": "99df2080",
   "metadata": {},
   "outputs": [],
   "source": []
  },
  {
   "cell_type": "markdown",
   "id": "2e8e79b1",
   "metadata": {},
   "source": [
    "## 2.2. Adult"
   ]
  },
  {
   "cell_type": "code",
   "execution_count": null,
   "id": "a0fe0357",
   "metadata": {},
   "outputs": [],
   "source": [
    "add = pd.read_csv(\"adult-train.csv\")"
   ]
  },
  {
   "cell_type": "code",
   "execution_count": null,
   "id": "02093475",
   "metadata": {},
   "outputs": [],
   "source": []
  }
 ],
 "metadata": {
  "kernelspec": {
   "display_name": "Python 3 (ipykernel)",
   "language": "python",
   "name": "python3"
  },
  "language_info": {
   "codemirror_mode": {
    "name": "ipython",
    "version": 3
   },
   "file_extension": ".py",
   "mimetype": "text/x-python",
   "name": "python",
   "nbconvert_exporter": "python",
   "pygments_lexer": "ipython3",
   "version": "3.11.6"
  }
 },
 "nbformat": 4,
 "nbformat_minor": 5
}
