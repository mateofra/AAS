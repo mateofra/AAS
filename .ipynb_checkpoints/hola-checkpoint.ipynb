{
 "cells": [
  {
   "cell_type": "code",
   "execution_count": 2,
   "id": "1359e730-6c80-437e-995a-c2eb925364df",
   "metadata": {},
   "outputs": [
    {
     "name": "stdout",
     "output_type": "stream",
     "text": [
      "Collecting pygame\n",
      "  Using cached pygame-2.6.1-cp313-cp313-manylinux_2_17_x86_64.manylinux2014_x86_64.whl.metadata (12 kB)\n",
      "Using cached pygame-2.6.1-cp313-cp313-manylinux_2_17_x86_64.manylinux2014_x86_64.whl (14.0 MB)\n",
      "Installing collected packages: pygame\n",
      "Successfully installed pygame-2.6.1\n"
     ]
    }
   ],
   "source": [
    "!pip install pygame"
   ]
  },
  {
   "cell_type": "code",
   "execution_count": 3,
   "id": "3b992847-d7b4-40b1-a629-dd48d4a8f9cc",
   "metadata": {},
   "outputs": [
    {
     "name": "stderr",
     "output_type": "stream",
     "text": [
      "/home/mateo/cosas_de_clase/venv/lib/python3.13/site-packages/pygame/pkgdata.py:25: UserWarning: pkg_resources is deprecated as an API. See https://setuptools.pypa.io/en/latest/pkg_resources.html. The pkg_resources package is slated for removal as early as 2025-11-30. Refrain from using this package or pin to Setuptools<81.\n",
      "  from pkg_resources import resource_stream, resource_exists\n"
     ]
    },
    {
     "name": "stdout",
     "output_type": "stream",
     "text": [
      "pygame 2.6.1 (SDL 2.28.4, Python 3.13.5)\n",
      "Hello from the pygame community. https://www.pygame.org/contribute.html\n"
     ]
    },
    {
     "ename": "SystemExit",
     "evalue": "",
     "output_type": "error",
     "traceback": [
      "An exception has occurred, use %tb to see the full traceback.\n",
      "\u001b[31mSystemExit\u001b[39m\n"
     ]
    },
    {
     "name": "stderr",
     "output_type": "stream",
     "text": [
      "/home/mateo/cosas_de_clase/venv/lib/python3.13/site-packages/IPython/core/interactiveshell.py:3707: UserWarning: To exit: use 'exit', 'quit', or Ctrl-D.\n",
      "  warn(\"To exit: use 'exit', 'quit', or Ctrl-D.\", stacklevel=1)\n"
     ]
    }
   ],
   "source": [
    "import pygame\n",
    "import sys\n",
    "\n",
    "# Initialize pygame\n",
    "pygame.init()\n",
    "\n",
    "# Screen settings\n",
    "WIDTH, HEIGHT = 800, 600\n",
    "WIN = pygame.display.set_mode((WIDTH, HEIGHT))\n",
    "pygame.display.set_caption(\"Pong\")\n",
    "\n",
    "# Colors\n",
    "WHITE = (255, 255, 255)\n",
    "BLACK = (0, 0, 0)\n",
    "\n",
    "# Paddle settings\n",
    "PADDLE_WIDTH, PADDLE_HEIGHT = 10, 100\n",
    "PADDLE_SPEED = 7\n",
    "\n",
    "# Ball settings\n",
    "BALL_SIZE = 20\n",
    "BALL_SPEED_X, BALL_SPEED_Y = 5, 5\n",
    "\n",
    "# Paddle positions\n",
    "left_paddle = pygame.Rect(10, HEIGHT//2 - PADDLE_HEIGHT//2, PADDLE_WIDTH, PADDLE_HEIGHT)\n",
    "right_paddle = pygame.Rect(WIDTH-20, HEIGHT//2 - PADDLE_HEIGHT//2, PADDLE_WIDTH, PADDLE_HEIGHT)\n",
    "\n",
    "# Ball position\n",
    "ball = pygame.Rect(WIDTH//2 - BALL_SIZE//2, HEIGHT//2 - BALL_SIZE//2, BALL_SIZE, BALL_SIZE)\n",
    "\n",
    "# Scores\n",
    "left_score = 0\n",
    "right_score = 0\n",
    "font = pygame.font.SysFont(None, 50)\n",
    "\n",
    "clock = pygame.time.Clock()\n",
    "\n",
    "def draw():\n",
    "    WIN.fill(BLACK)\n",
    "    pygame.draw.rect(WIN, WHITE, left_paddle)\n",
    "    pygame.draw.rect(WIN, WHITE, right_paddle)\n",
    "    pygame.draw.ellipse(WIN, WHITE, ball)\n",
    "    pygame.draw.aaline(WIN, WHITE, (WIDTH//2, 0), (WIDTH//2, HEIGHT))\n",
    "    left_text = font.render(str(left_score), True, WHITE)\n",
    "    right_text = font.render(str(right_score), True, WHITE)\n",
    "    WIN.blit(left_text, (WIDTH//4, 20))\n",
    "    WIN.blit(right_text, (WIDTH*3//4, 20))\n",
    "    pygame.display.flip()\n",
    "\n",
    "def reset_ball():\n",
    "    ball.x = WIDTH//2 - BALL_SIZE//2\n",
    "    ball.y = HEIGHT//2 - BALL_SIZE//2\n",
    "\n",
    "ball_vel_x = BALL_SPEED_X\n",
    "ball_vel_y = BALL_SPEED_Y\n",
    "\n",
    "while True:\n",
    "    for event in pygame.event.get():\n",
    "        if event.type == pygame.QUIT:\n",
    "            pygame.quit()\n",
    "            sys.exit()\n",
    "\n",
    "    # Paddle movement\n",
    "    keys = pygame.key.get_pressed()\n",
    "    if keys[pygame.K_w] and left_paddle.top > 0:\n",
    "        left_paddle.y -= PADDLE_SPEED\n",
    "    if keys[pygame.K_s] and left_paddle.bottom < HEIGHT:\n",
    "        left_paddle.y += PADDLE_SPEED\n",
    "    if keys[pygame.K_UP] and right_paddle.top > 0:\n",
    "        right_paddle.y -= PADDLE_SPEED\n",
    "    if keys[pygame.K_DOWN] and right_paddle.bottom < HEIGHT:\n",
    "        right_paddle.y += PADDLE_SPEED\n",
    "\n",
    "    # Ball movement\n",
    "    ball.x += ball_vel_x\n",
    "    ball.y += ball_vel_y\n",
    "\n",
    "    # Collision with top/bottom\n",
    "    if ball.top <= 0 or ball.bottom >= HEIGHT:\n",
    "        ball_vel_y *= -1\n",
    "\n",
    "    # Collision with paddles\n",
    "    if ball.colliderect(left_paddle) or ball.colliderect(right_paddle):\n",
    "        ball_vel_x *= -1\n",
    "\n",
    "    # Score\n",
    "    if ball.left <= 0:\n",
    "        right_score += 1\n",
    "        reset_ball()\n",
    "        ball_vel_x *= -1\n",
    "    if ball.right >= WIDTH:\n",
    "        left_score += 1\n",
    "        reset_ball()\n",
    "        ball_vel_x *= -1\n",
    "\n",
    "    draw()\n",
    "    clock.tick(60)"
   ]
  }
 ],
 "metadata": {
  "kernelspec": {
   "display_name": "Python 3 (ipykernel)",
   "language": "python",
   "name": "python3"
  },
  "language_info": {
   "codemirror_mode": {
    "name": "ipython",
    "version": 3
   },
   "file_extension": ".py",
   "mimetype": "text/x-python",
   "name": "python",
   "nbconvert_exporter": "python",
   "pygments_lexer": "ipython3",
   "version": "3.13.5"
  }
 },
 "nbformat": 4,
 "nbformat_minor": 5
}
